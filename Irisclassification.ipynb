#new comment
#data preprocessing can be improved 
